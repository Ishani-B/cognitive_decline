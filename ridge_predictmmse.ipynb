{
 "cells": [
  {
   "cell_type": "code",
   "execution_count": null,
   "id": "5dad1421-6fc9-4ba3-a5b5-b06a7f011147",
   "metadata": {},
   "outputs": [
    {
     "name": "stdout",
     "output_type": "stream",
     "text": [
      "After merge: (108, 58) , missing MMSE: 1\n",
      "Best alpha: 177.82794100389228\n",
      "R²: 0.12271679681453007\n",
      "MAE: 4.893224367985052\n",
      "RMSE: 5.660297041877386\n"
     ]
    }
   ],
   "source": [
    "import os\n",
    "import numpy as np\n",
    "import pandas as pd\n",
    "from sklearn.linear_model import Ridge\n",
    "from sklearn.model_selection import train_test_split, GridSearchCV\n",
    "from sklearn.preprocessing import StandardScaler\n",
    "from sklearn.impute import SimpleImputer\n",
    "from sklearn.metrics import mean_squared_error, mean_absolute_error, r2_score\n",
    "\n",
    "# Load and merge data\n",
    "base_dir = \"output_lexical_metrics\"\n",
    "mmse_file = \"mmse_input.csv\"\n",
    "lexical_data = []\n",
    "filenames = []\n",
    "\n",
    "for folder in ['cc', 'cd']:\n",
    "    path = f\"{base_dir}/{folder}\"\n",
    "    for fname in os.listdir(path):\n",
    "        if fname.endswith(\".csv\"):\n",
    "            df = pd.read_csv(os.path.join(path, fname))\n",
    "            lexical_data.append(df.iloc[0])\n",
    "            filenames.append(os.path.splitext(fname)[0])\n",
    "\n",
    "lex_df = pd.DataFrame(lexical_data)\n",
    "lex_df['filename'] = filenames\n",
    "\n",
    "mmse_df = pd.read_csv(mmse_file)\n",
    "mmse_df['filename'] = mmse_df['filename'].apply(lambda x: os.path.splitext(x)[0])\n",
    "\n",
    "merged_df = pd.merge(lex_df, mmse_df, on='filename', how='left')\n",
    "print(\"After merge:\", merged_df.shape, \", missing MMSE:\", merged_df['mmse_score'].isna().sum())\n",
    "\n",
    "# Preprocessing\n",
    "X = merged_df.drop(columns=['filename', 'mmse_score'])\n",
    "y = merged_df['mmse_score'].fillna(merged_df['mmse_score'].mean())\n",
    "\n",
    "imputer = SimpleImputer(strategy='mean')\n",
    "X_imputed = pd.DataFrame(imputer.fit_transform(X), columns=X.columns)\n",
    "\n",
    "# Train/test split\n",
    "X_train, X_test, y_train, y_test = train_test_split(X_imputed, y, test_size=0.2, random_state=42)\n",
    "\n",
    "scaler = StandardScaler()\n",
    "X_train_s = scaler.fit_transform(X_train)\n",
    "X_test_s = scaler.transform(X_test)\n",
    "\n",
    "# Ridge regression with cross-validated alpha\n",
    "alphas = np.logspace(-3, 3, 25)\n",
    "ridge_model = Ridge()\n",
    "ridge_cv = GridSearchCV(\n",
    "    ridge_model,\n",
    "    param_grid={'alpha': alphas},\n",
    "    scoring='neg_mean_squared_error',\n",
    "    cv=5,\n",
    "    n_jobs=-1\n",
    ")\n",
    "ridge_cv.fit(X_train_s, y_train)\n",
    "\n",
    "best_ridge = ridge_cv.best_estimator_\n",
    "y_pred = best_ridge.predict(X_test_s)\n",
    "\n",
    "# Evaluation\n",
    "print(\"Best alpha:\", ridge_cv.best_params_['alpha'])\n",
    "print(\"R²:\", r2_score(y_test, y_pred))\n",
    "print(\"MAE:\", mean_absolute_error(y_test, y_pred))\n",
    "print(\"RMSE:\", np.sqrt(mean_squared_error(y_test, y_pred)))"
   ]
  },
  {
   "cell_type": "code",
   "execution_count": null,
   "metadata": {},
   "outputs": [],
   "source": []
  }
 ],
 "metadata": {
  "language_info": {
   "codemirror_mode": {
    "name": "ipython",
    "version": 3
   },
   "file_extension": ".py",
   "mimetype": "text/x-python",
   "name": "python",
   "nbconvert_exporter": "python",
   "pygments_lexer": "ipython3",
   "version": 3
  }
 },
 "nbformat": 4,
 "nbformat_minor": 2
}
